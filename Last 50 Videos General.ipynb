{
 "cells": [
  {
   "cell_type": "code",
   "execution_count": 1,
   "metadata": {},
   "outputs": [],
   "source": [
    "import pandas as pd"
   ]
  },
  {
   "cell_type": "code",
   "execution_count": 2,
   "metadata": {},
   "outputs": [],
   "source": [
    "import numpy as np\n",
    "import math"
   ]
  },
  {
   "cell_type": "code",
   "execution_count": 3,
   "metadata": {},
   "outputs": [],
   "source": [
    "import matplotlib.pyplot as plt"
   ]
  },
  {
   "cell_type": "code",
   "execution_count": 4,
   "metadata": {},
   "outputs": [],
   "source": [
    "from matplotlib.ticker import FormatStrFormatter"
   ]
  },
  {
   "cell_type": "code",
   "execution_count": 5,
   "metadata": {},
   "outputs": [],
   "source": [
    "import matplotlib.ticker as ticker"
   ]
  },
  {
   "cell_type": "code",
   "execution_count": 6,
   "metadata": {},
   "outputs": [],
   "source": [
    "data = pd.read_excel(r\"C:\\Users\\Yogen\\Documents\\Mr. Beast Data Analysis\\Most Recent Videos- till 2020.xlsx\")"
   ]
  },
  {
   "cell_type": "code",
   "execution_count": 7,
   "metadata": {},
   "outputs": [],
   "source": [
    "l=[]\n",
    "dat = pd.DataFrame()\n",
    "for i in data.index:\n",
    "    if len(l) <= 5:\n",
    "        val = data['Date'][i]\n",
    "        l.append(val)\n",
    "    else:\n",
    "        dat = dat.append([l])\n",
    "        l=[data['Date'][i]]\n",
    "    "
   ]
  },
  {
   "cell_type": "code",
   "execution_count": 8,
   "metadata": {
    "scrolled": true
   },
   "outputs": [],
   "source": [
    "dat = dat.drop([5], axis = 1)"
   ]
  },
  {
   "cell_type": "code",
   "execution_count": 9,
   "metadata": {
    "scrolled": true
   },
   "outputs": [],
   "source": [
    "l=[]\n",
    "for i in dat[4]:\n",
    "    parts = i.split('K')\n",
    "    num = int(parts[0])\n",
    "    l.append(num)\n",
    "    "
   ]
  },
  {
   "cell_type": "code",
   "execution_count": 10,
   "metadata": {},
   "outputs": [],
   "source": [
    "g = []\n",
    "for i in l:\n",
    "    g.append(i*1000)"
   ]
  },
  {
   "cell_type": "code",
   "execution_count": 11,
   "metadata": {
    "scrolled": true
   },
   "outputs": [],
   "source": [
    "dat[4]=g"
   ]
  },
  {
   "cell_type": "code",
   "execution_count": 12,
   "metadata": {},
   "outputs": [],
   "source": [
    "l2=[]\n",
    "for i in dat[2]:\n",
    "    parts = i.split('M')\n",
    "    num = float(parts[0])\n",
    "    l2.append(num)\n",
    "    "
   ]
  },
  {
   "cell_type": "code",
   "execution_count": 13,
   "metadata": {},
   "outputs": [],
   "source": [
    "g2 = []\n",
    "for i in l2:\n",
    "    g2.append(i*1000000)"
   ]
  },
  {
   "cell_type": "code",
   "execution_count": 14,
   "metadata": {},
   "outputs": [],
   "source": [
    "dat[2]=g2"
   ]
  },
  {
   "cell_type": "markdown",
   "metadata": {},
   "source": [
    "## Main Data "
   ]
  },
  {
   "cell_type": "code",
   "execution_count": 15,
   "metadata": {},
   "outputs": [
    {
     "data": {
      "text/html": [
       "<div>\n",
       "<style scoped>\n",
       "    .dataframe tbody tr th:only-of-type {\n",
       "        vertical-align: middle;\n",
       "    }\n",
       "\n",
       "    .dataframe tbody tr th {\n",
       "        vertical-align: top;\n",
       "    }\n",
       "\n",
       "    .dataframe thead th {\n",
       "        text-align: right;\n",
       "    }\n",
       "</style>\n",
       "<table border=\"1\" class=\"dataframe\">\n",
       "  <thead>\n",
       "    <tr style=\"text-align: right;\">\n",
       "      <th></th>\n",
       "      <th>0</th>\n",
       "      <th>1</th>\n",
       "      <th>2</th>\n",
       "      <th>3</th>\n",
       "      <th>4</th>\n",
       "    </tr>\n",
       "  </thead>\n",
       "  <tbody>\n",
       "    <tr>\n",
       "      <th>0</th>\n",
       "      <td>2021-01-01</td>\n",
       "      <td>Youtube Rewind 2020, Thank God It's Over</td>\n",
       "      <td>19200000.0</td>\n",
       "      <td>0.992</td>\n",
       "      <td>230000</td>\n",
       "    </tr>\n",
       "    <tr>\n",
       "      <th>0</th>\n",
       "      <td>2020-12-23</td>\n",
       "      <td>I Put 1,000,000 Christmas Lights On A House (W...</td>\n",
       "      <td>29800000.0</td>\n",
       "      <td>0.986</td>\n",
       "      <td>113000</td>\n",
       "    </tr>\n",
       "    <tr>\n",
       "      <th>0</th>\n",
       "      <td>2020-12-19</td>\n",
       "      <td>I Opened A Restaurant That Pays You To Eat At It</td>\n",
       "      <td>32900000.0</td>\n",
       "      <td>0.990</td>\n",
       "      <td>683000</td>\n",
       "    </tr>\n",
       "    <tr>\n",
       "      <th>0</th>\n",
       "      <td>2020-12-15</td>\n",
       "      <td>I Gave People $1,000,000 But ONLY 1 Minute To ...</td>\n",
       "      <td>39000000.0</td>\n",
       "      <td>0.990</td>\n",
       "      <td>147000</td>\n",
       "    </tr>\n",
       "    <tr>\n",
       "      <th>0</th>\n",
       "      <td>2020-11-28</td>\n",
       "      <td>Steal This $100,000 Diamond, You Keep It</td>\n",
       "      <td>36300000.0</td>\n",
       "      <td>0.976</td>\n",
       "      <td>81000</td>\n",
       "    </tr>\n",
       "  </tbody>\n",
       "</table>\n",
       "</div>"
      ],
      "text/plain": [
       "           0                                                  1           2  \\\n",
       "0 2021-01-01           Youtube Rewind 2020, Thank God It's Over  19200000.0   \n",
       "0 2020-12-23  I Put 1,000,000 Christmas Lights On A House (W...  29800000.0   \n",
       "0 2020-12-19   I Opened A Restaurant That Pays You To Eat At It  32900000.0   \n",
       "0 2020-12-15  I Gave People $1,000,000 But ONLY 1 Minute To ...  39000000.0   \n",
       "0 2020-11-28           Steal This $100,000 Diamond, You Keep It  36300000.0   \n",
       "\n",
       "       3       4  \n",
       "0  0.992  230000  \n",
       "0  0.986  113000  \n",
       "0  0.990  683000  \n",
       "0  0.990  147000  \n",
       "0  0.976   81000  "
      ]
     },
     "execution_count": 15,
     "metadata": {},
     "output_type": "execute_result"
    }
   ],
   "source": [
    "dat.head()"
   ]
  },
  {
   "cell_type": "code",
   "execution_count": 17,
   "metadata": {},
   "outputs": [],
   "source": [
    "dat.to_excel(r'C:\\Users\\Yogen\\Documents\\Mr. Beast Data Analysis\\Most Recent Videos.xlsx')"
   ]
  },
  {
   "cell_type": "markdown",
   "metadata": {},
   "source": [
    "#### Views vs Ratings"
   ]
  },
  {
   "cell_type": "code",
   "execution_count": 14,
   "metadata": {},
   "outputs": [
    {
     "data": {
      "text/plain": [
       "[<matplotlib.lines.Line2D at 0x25e467c7df0>]"
      ]
     },
     "execution_count": 14,
     "metadata": {},
     "output_type": "execute_result"
    },
    {
     "data": {
      "image/png": "[encoded data removed]",
      "text/plain": [
       "<Figure size 432x288 with 1 Axes>"
      ]
     },
     "metadata": {
      "needs_background": "light"
     },
     "output_type": "display_data"
    }
   ],
   "source": [
    "plt.scatter(dat[3], dat[2])\n",
    "m, b = np.polyfit(dat[3], dat[2], 1)\n",
    "plt.plot(dat[3], m*dat[3]+b, 'r-')"
   ]
  },
  {
   "cell_type": "markdown",
   "metadata": {},
   "source": [
    "The amount of views a video gets and it's rating do not seem to be related VERY WEAKLY. The line shows though that as the rating is LOWER for videos with HIGHER amount of views."
   ]
  },
  {
   "cell_type": "markdown",
   "metadata": {},
   "source": [
    "#### Ratings distribution"
   ]
  },
  {
   "cell_type": "code",
   "execution_count": 15,
   "metadata": {},
   "outputs": [
    {
     "data": {
      "text/plain": [
       "Text(0, 0.5, 'No. of Videos in the range')"
      ]
     },
     "execution_count": 15,
     "metadata": {},
     "output_type": "execute_result"
    },
    {
     "data": {
      "image/png": "[encoded data removed]",
      "text/plain": [
       "<Figure size 720x576 with 1 Axes>"
      ]
     },
     "metadata": {
      "needs_background": "light"
     },
     "output_type": "display_data"
    }
   ],
   "source": [
    "plt.figure(figsize=(10,8))\n",
    "plt.hist(dat[3], 7)\n",
    "plt.title(\"Rating distribution of Videos\")\n",
    "plt.xlabel(\"Rating\")\n",
    "plt.ylabel(\"No. of Videos in the range\")"
   ]
  },
  {
   "cell_type": "markdown",
   "metadata": {},
   "source": [
    "Left-skewed distribution means that more videos rate lower than average than do higher than average."
   ]
  },
  {
   "cell_type": "code",
   "execution_count": 16,
   "metadata": {},
   "outputs": [
    {
     "name": "stdout",
     "output_type": "stream",
     "text": [
      "Median Ratings =  98.6 %\n"
     ]
    }
   ],
   "source": [
    "median_ratings = pd.DataFrame(dat[3]).median()[3]\n",
    "print(\"Median Ratings = \", median_ratings*100,\"%\")"
   ]
  },
  {
   "cell_type": "markdown",
   "metadata": {},
   "source": [
    "Median Ratings mean that 50% of your last 50 videos were rated 98.6% or higher."
   ]
  },
  {
   "cell_type": "code",
   "execution_count": 17,
   "metadata": {},
   "outputs": [
    {
     "name": "stdout",
     "output_type": "stream",
     "text": [
      "Average Ratings =  98.51 %\n"
     ]
    }
   ],
   "source": [
    "mean_ratings = pd.DataFrame(dat[3]).mean()[3]\n",
    "print(\"Average Ratings = \", \"%.2f\" % (mean_ratings*100), \"%\")"
   ]
  },
  {
   "cell_type": "markdown",
   "metadata": {},
   "source": [
    "As Mean and Median ratings are close to each other, it means that your videos which are rated lower than the average are inconsequentially low."
   ]
  },
  {
   "cell_type": "markdown",
   "metadata": {},
   "source": [
    "### Views"
   ]
  },
  {
   "cell_type": "markdown",
   "metadata": {},
   "source": [
    "#### Views with Time"
   ]
  },
  {
   "cell_type": "code",
   "execution_count": 18,
   "metadata": {},
   "outputs": [
    {
     "data": {
      "text/plain": [
       "Text(0, 0.5, 'Views in 10 million')"
      ]
     },
     "execution_count": 18,
     "metadata": {},
     "output_type": "execute_result"
    },
    {
     "data": {
      "image/png": "[encoded data removed]",
      "text/plain": [
       "<Figure size 1008x576 with 1 Axes>"
      ]
     },
     "metadata": {
      "needs_background": "light"
     },
     "output_type": "display_data"
    }
   ],
   "source": [
    "plt.figure(figsize=(14,8))\n",
    "plt.title(\"Views of each video\")\n",
    "plt.plot(dat[0],dat[2]) # add moving average graph\n",
    "plt.xlabel(\"Date of Posting\")\n",
    "plt.ylabel(\"Views in 10 million\")"
   ]
  },
  {
   "cell_type": "code",
   "execution_count": 19,
   "metadata": {},
   "outputs": [
    {
     "name": "stdout",
     "output_type": "stream",
     "text": [
      "Average Views =  42 million\n"
     ]
    }
   ],
   "source": [
    "mean_views = pd.DataFrame(dat[2]).mean()[2]\n",
    "print(\"Average Views = \", \"%.f\" % (mean_views/1000000), \"million\")"
   ]
  },
  {
   "cell_type": "code",
   "execution_count": 20,
   "metadata": {},
   "outputs": [
    {
     "name": "stdout",
     "output_type": "stream",
     "text": [
      "Median Views =  39.7 million\n"
     ]
    }
   ],
   "source": [
    "median_views = pd.DataFrame(dat[2]).median()[2]\n",
    "print(\"Median Views = \", (median_views/1000000), \"million\")"
   ]
  },
  {
   "cell_type": "markdown",
   "metadata": {},
   "source": [
    "The average views are higher than the median views, this means that YOUR VIDEOS DO REALLY WELL SOMETIMES BUT ALMOST NEVER DO VERY BADLY.This is very good. "
   ]
  },
  {
   "cell_type": "code",
   "execution_count": 21,
   "metadata": {},
   "outputs": [],
   "source": [
    "min_views = dat[2].min()"
   ]
  },
  {
   "cell_type": "code",
   "execution_count": 84,
   "metadata": {},
   "outputs": [],
   "source": [
    "max_views = dat[2].max()"
   ]
  },
  {
   "cell_type": "code",
   "execution_count": 23,
   "metadata": {},
   "outputs": [
    {
     "data": {
      "text/plain": [
       "71500000.0"
      ]
     },
     "execution_count": 23,
     "metadata": {},
     "output_type": "execute_result"
    }
   ],
   "source": [
    "range_views = max_views - min_views\n",
    "range_views"
   ]
  },
  {
   "cell_type": "code",
   "execution_count": 55,
   "metadata": {},
   "outputs": [
    {
     "data": {
      "text/plain": [
       "7"
      ]
     },
     "execution_count": 55,
     "metadata": {},
     "output_type": "execute_result"
    }
   ],
   "source": [
    "math.ceil(1+3.3*np.log10(len(dat)))"
   ]
  },
  {
   "cell_type": "markdown",
   "metadata": {},
   "source": [
    "#### Views by no. of videos"
   ]
  },
  {
   "cell_type": "code",
   "execution_count": 106,
   "metadata": {},
   "outputs": [
    {
     "data": {
      "text/plain": [
       "[<matplotlib.axis.XTick at 0x25e4c0c6c10>,\n",
       " <matplotlib.axis.XTick at 0x25e4c0c6d60>,\n",
       " <matplotlib.axis.XTick at 0x25e4d3c13d0>,\n",
       " <matplotlib.axis.XTick at 0x25e4be90190>,\n",
       " <matplotlib.axis.XTick at 0x25e4c022820>,\n",
       " <matplotlib.axis.XTick at 0x25e4be903d0>,\n",
       " <matplotlib.axis.XTick at 0x25e4c022a90>,\n",
       " <matplotlib.axis.XTick at 0x25e4c0225e0>]"
      ]
     },
     "execution_count": 106,
     "metadata": {},
     "output_type": "execute_result"
    },
    {
     "data": {
      "image/png": "[encoded data removed]",
      "text/plain": [
       "<Figure size 720x576 with 1 Axes>"
      ]
     },
     "metadata": {
      "needs_background": "light"
     },
     "output_type": "display_data"
    }
   ],
   "source": [
    "fig, ax = plt.subplots(figsize=(10,8))\n",
    "\n",
    "arr = plt.hist(dat[2], bins=7)\n",
    "\n",
    "for i in range(7):\n",
    "    plt.text(arr[1][i],arr[0][i],str(arr[0][i]))\n",
    "    \n",
    "plt.xlabel(\"Views in Million\")\n",
    "plt.ylabel(\"No. of Videos\")\n",
    "plt.title(\"No. of Videos in the range of views\")\n",
    "plt.gca().ticklabel_format(axis='both', style='plain', useOffset=False)\n",
    "ax.set_xticks(arr[1])\n"
   ]
  },
  {
   "cell_type": "markdown",
   "metadata": {},
   "source": [
    "28 out of your last 50 videos lie in the range of 25.4 million to 45.8 million. Hardly any videos lie below that, with ONLY ONE video with less than 20 million views.\n",
    "\n",
    "This means that you steadily do close to 30 million views with ease. However some videos do significantly better, which means there is potential to be realised."
   ]
  },
  {
   "cell_type": "code",
   "execution_count": null,
   "metadata": {},
   "outputs": [],
   "source": []
  }
 ],
 "metadata": {
  "kernelspec": {
   "display_name": "Python 3",
   "language": "python",
   "name": "python3"
  },
  "language_info": {
   "codemirror_mode": {
    "name": "ipython",
    "version": 3
   },
   "file_extension": ".py",
   "mimetype": "text/x-python",
   "name": "python",
   "nbconvert_exporter": "python",
   "pygments_lexer": "ipython3",
   "version": "3.8.3"
  }
 },
 "nbformat": 4,
 "nbformat_minor": 4
}
