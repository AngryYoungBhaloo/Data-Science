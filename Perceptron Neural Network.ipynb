{
 "cells": [
  {
   "cell_type": "code",
   "execution_count": 2,
   "metadata": {},
   "outputs": [],
   "source": [
    "import random"
   ]
  },
  {
   "cell_type": "markdown",
   "metadata": {},
   "source": [
    "# Inputs"
   ]
  },
  {
   "cell_type": "markdown",
   "metadata": {},
   "source": [
    "### Generating Fake Dataset"
   ]
  },
  {
   "cell_type": "markdown",
   "metadata": {},
   "source": [
    "##### Input values"
   ]
  },
  {
   "cell_type": "code",
   "execution_count": 3,
   "metadata": {},
   "outputs": [],
   "source": [
    "dataset_size=1000\n",
    "inputs=[]\n",
    "for i in range(dataset_size):\n",
    "    x0=random.uniform(0,100) #for generating random dataset\n",
    "    x1=random.uniform(0,100)\n",
    "    b=1\n",
    "    entry=[x0,x1,b]\n",
    "    inputs.append(entry) "
   ]
  },
  {
   "cell_type": "markdown",
   "metadata": {},
   "source": [
    "##### Actual Answers or Labels"
   ]
  },
  {
   "cell_type": "code",
   "execution_count": 4,
   "metadata": {},
   "outputs": [],
   "source": [
    "def y_value(x):\n",
    "    return 3*x-2"
   ]
  },
  {
   "cell_type": "code",
   "execution_count": 5,
   "metadata": {
    "scrolled": true
   },
   "outputs": [],
   "source": [
    "labels=[]\n",
    "for x0, x1, b in inputs: #x, y and bias\n",
    "    if x1<y_value(x0): #points outside the line in eqn_y\n",
    "        labels.append(-1)\n",
    "    else:\n",
    "        labels.append(1)"
   ]
  },
  {
   "cell_type": "markdown",
   "metadata": {},
   "source": [
    "### Initialising Weights"
   ]
  },
  {
   "cell_type": "code",
   "execution_count": 6,
   "metadata": {},
   "outputs": [],
   "source": [
    "num_weights=3\n",
    "weights=[]\n",
    "for i in range(num_weights):\n",
    "    weights.append(random.uniform(-1,1)) #random initialisation of weights"
   ]
  },
  {
   "cell_type": "markdown",
   "metadata": {},
   "source": [
    "## Activation Function"
   ]
  },
  {
   "cell_type": "code",
   "execution_count": 7,
   "metadata": {},
   "outputs": [],
   "source": [
    "def act_func(weighted_sum): #function converts weighted sum to a concrete classification guess\n",
    "    if weighted_sum <= 0:\n",
    "        return -1\n",
    "    elif weighted_sum > 0:\n",
    "        return 1"
   ]
  },
  {
   "cell_type": "markdown",
   "metadata": {},
   "source": [
    "## Output"
   ]
  },
  {
   "cell_type": "code",
   "execution_count": 8,
   "metadata": {},
   "outputs": [],
   "source": [
    "def guess(values):\n",
    "    weighted_sum=0\n",
    "    for i in range(len(weights)):\n",
    "        weighted_sum = weighted_sum + values[i]*weights[i] #multiplies input with corresponding weight\n",
    "    output= act_func(weighted_sum)\n",
    "    return output"
   ]
  },
  {
   "cell_type": "markdown",
   "metadata": {},
   "source": [
    "### Training"
   ]
  },
  {
   "cell_type": "code",
   "execution_count": 9,
   "metadata": {},
   "outputs": [],
   "source": [
    "learning_rate=0.01 #arbitrary value\n",
    "def train(values, label):\n",
    "    #inputs: values of one input; here the x and y coordinates and the bias\n",
    "    #label: target value; either 1 or -1\n",
    "    model_guess=guess(values)\n",
    "    error= label-model_guess\n",
    "    for i in range(len(weights)):\n",
    "        weights[i]=weights[i] + error*values[i]*learning_rate #weights are tweaked using the error\n",
    "    return model_guess"
   ]
  },
  {
   "cell_type": "markdown",
   "metadata": {},
   "source": [
    "## Actual Training with our Dataset"
   ]
  },
  {
   "cell_type": "code",
   "execution_count": 10,
   "metadata": {},
   "outputs": [],
   "source": [
    "#Check if you initialised weights and calculated labels"
   ]
  },
  {
   "cell_type": "code",
   "execution_count": 11,
   "metadata": {},
   "outputs": [],
   "source": [
    "for i in range(len(inputs)):\n",
    "    train(inputs[i], labels[i])"
   ]
  },
  {
   "cell_type": "markdown",
   "metadata": {},
   "source": [
    "### Guesses after Training"
   ]
  },
  {
   "cell_type": "code",
   "execution_count": 12,
   "metadata": {},
   "outputs": [],
   "source": [
    "guesses_by_model=[]\n",
    "for i in range(len(labels)):\n",
    "    guesses_by_model.append(guess(inputs[i]))\n",
    "    "
   ]
  },
  {
   "cell_type": "code",
   "execution_count": 13,
   "metadata": {},
   "outputs": [],
   "source": [
    "correct=0\n",
    "for i in range(len(labels)): #The number of correct guesses\n",
    "    if labels[i] == guesses_by_model[i]:\n",
    "        correct = correct + 1"
   ]
  },
  {
   "cell_type": "code",
   "execution_count": 14,
   "metadata": {},
   "outputs": [
    {
     "name": "stdout",
     "output_type": "stream",
     "text": [
      "99.1 % of guesses by the model were correct\n"
     ]
    }
   ],
   "source": [
    "percentage_correct = correct/len(inputs)*100\n",
    "print(str(percentage_correct)+\" % of guesses by the model were correct\")"
   ]
  },
  {
   "cell_type": "code",
   "execution_count": null,
   "metadata": {},
   "outputs": [],
   "source": []
  }
 ],
 "metadata": {
  "kernelspec": {
   "display_name": "Python 3",
   "language": "python",
   "name": "python3"
  },
  "language_info": {
   "codemirror_mode": {
    "name": "ipython",
    "version": 3
   },
   "file_extension": ".py",
   "mimetype": "text/x-python",
   "name": "python",
   "nbconvert_exporter": "python",
   "pygments_lexer": "ipython3",
   "version": "3.8.3"
  }
 },
 "nbformat": 4,
 "nbformat_minor": 4
}
